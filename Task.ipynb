{
 "cells": [
  {
   "cell_type": "code",
   "execution_count": 1,
   "metadata": {},
   "outputs": [],
   "source": [
    "import numpy as np\n",
    "from numpy import array\n",
    "import matplotlib.pyplot as plt\n",
    "import scipy.stats as st"
   ]
  },
  {
   "cell_type": "code",
   "execution_count": 2,
   "metadata": {},
   "outputs": [],
   "source": [
    "EX = -1\n",
    "DX = 0.7 \n",
    "eps = 0.06\n",
    "\n",
    "U_left = 0\n",
    "U_right = 1\n",
    "\n",
    "N_sample = array([-1.011,-0.529,-0.688,-0.196,-1.024,0.292,-0.752,-0.332,-2.590,-0.076, #Выборка из распредления\n",
    "                  -0.558,-1.296,-1.360,-1.635,-0.830,-0.914,0.853,-0.037,-1.567,-1.359, #N(EX,DX)\n",
    "                  -1.385,-1.078,0.491,-1.546,-0.466,-1.497,-2.264,-0.750,-1.099,-3.107,\n",
    "                  -1.137,-2.230,0.339,-1.197,0.249,-1.277,-1.950,-1.202,-2.454,-0.791,\n",
    "                  -2.530,-1.311, 0.175,-0.045,-0.316,-1.884,-1.648,-1.576,-1.103,-0.750])\n",
    "\n",
    "U_sample = array([0.376,0.949,0.108,0.289,0.046,0.879,0.513,0.468,0.565,0.837, #Выборка из распределения U(0,1)\n",
    "                  0.398,0.704,0.402,0.410,0.602,0.440,0.810,0.749,0.082,0.233,\n",
    "                  0.118,0.983,0.668,0.921,0.766,0.343,0.379,0.687,0.826,0.677])\n",
    "\n",
    "X = N_sample[:20] #Первые 20 элементов выборки N_sample\n",
    "Y = N_sample[20:] #Последние 30 элементов выбоки N_sample"
   ]
  },
  {
   "cell_type": "markdown",
   "metadata": {},
   "source": [
    "# Задание 1. Построить точный доверительный интервал из N_sample для искомого параметра уровня 1-eps."
   ]
  },
  {
   "cell_type": "code",
   "execution_count": 3,
   "metadata": {},
   "outputs": [
    {
     "name": "stdout",
     "output_type": "stream",
     "text": [
      "Выборочное среднее: -1.01896\n",
      "Выборочная дисперсия: 0.7278671983999996\n",
      "Несмещенная выборочная дисперсия: 0.7427216310204078\n",
      "S_2_1 = 0.7282266799999999\n"
     ]
    }
   ],
   "source": [
    "n = len(N_sample) #Длина выборки\n",
    "N_sample_mean = np.sum(N_sample) / n #Выборочное среднее\n",
    "sqrt_DX = np.sqrt(DX) #Корень из дисперсии \n",
    "S_2 = np.sum(N_sample ** 2) / n - N_sample_mean ** 2 #Выборочная дисперсия\n",
    "S_2_0 = (n/(n-1))*S_2 #Несмещенная выборочная дисперсия\n",
    "S_2_1 = (1/n)*np.sum((N_sample - EX)**2)\n",
    "print(\"Выборочное среднее:\", N_sample_mean)\n",
    "print(\"Выборочная дисперсия:\", S_2)\n",
    "print(\"Несмещенная выборочная дисперсия:\", S_2_0)\n",
    "print(\"S_2_1 =\",S_2_1)"
   ]
  },
  {
   "cell_type": "markdown",
   "metadata": {},
   "source": [
    "### 1)  EX, если DX известно"
   ]
  },
  {
   "cell_type": "code",
   "execution_count": 4,
   "metadata": {},
   "outputs": [
    {
     "name": "stdout",
     "output_type": "stream",
     "text": [
      "Квантиль стандратного нормального распределения уровня 1-eps/2: 1.8807936081512509\n",
      "Точный доверительный интервал для EX уровня 1-eps, если DX известно - (-1.241498500827332,-0.7964214991726681)\n"
     ]
    }
   ],
   "source": [
    "q = st.norm.ppf(1-eps/2) #Квантиль уровня 1-eps/2 \n",
    "left_bound = N_sample_mean - q*sqrt_DX/np.sqrt(n)\n",
    "right_bound = N_sample_mean + q*sqrt_DX/np.sqrt(n)\n",
    "print(\"Квантиль стандратного нормального распределения уровня 1-eps/2:\", q)\n",
    "print(\"Точный доверительный интервал для EX уровня 1-eps, если DX известно - (\", left_bound,\",\",right_bound,\")\",sep='')"
   ]
  },
  {
   "cell_type": "markdown",
   "metadata": {},
   "source": [
    "### 2) EX, если DX неизвестно "
   ]
  },
  {
   "cell_type": "code",
   "execution_count": 5,
   "metadata": {},
   "outputs": [
    {
     "name": "stdout",
     "output_type": "stream",
     "text": [
      "Квантиль распределения Стьюдента с n-1 степенями свободы уровня 1-eps/2: 1.9253481676850237\n",
      "Точный доверительный интервал для EX уровня 1-eps, если DX неизвестно - (-1.2191596823939246,-0.8187603176060757)\n"
     ]
    }
   ],
   "source": [
    "q = st.t.ppf(1-eps/2,n-1)\n",
    "left_bound = N_sample_mean - (q*S_2)/np.sqrt(n-1)\n",
    "right_bound = N_sample_mean + (q*S_2)/np.sqrt(n-1)\n",
    "print(\"Квантиль распределения Стьюдента с n-1 степенями свободы уровня 1-eps/2:\", q)\n",
    "print(\"Точный доверительный интервал для EX уровня 1-eps, если DX неизвестно - (\", left_bound,\",\",right_bound,\")\",sep='')"
   ]
  },
  {
   "cell_type": "markdown",
   "metadata": {},
   "source": [
    "### 3) DX, если EX известно"
   ]
  },
  {
   "cell_type": "code",
   "execution_count": 6,
   "metadata": {},
   "outputs": [
    {
     "name": "stdout",
     "output_type": "stream",
     "text": [
      "Квантиль распределения Хи-квадрат с n степенями свободы уровня eps/2: 32.95091163131133\n",
      "Квантиль распределения Хи-квадрат с n степенями свободы уровня 1-eps/2: 70.4229861231523\n",
      "Точный доверительный интервал для DX уровня 1-eps, если EX известно - (0.5170376322345324,1.1050175001956677)\n"
     ]
    }
   ],
   "source": [
    "q1 = st.chi2.ppf(eps/2,n)\n",
    "q2 = st.chi2.ppf(1-eps/2,n)\n",
    "g = np.sum(N_sample ** 2) - 2*EX*np.sum(N_sample) + n*((EX)**2)\n",
    "left_bound = g/q2\n",
    "right_bound = g/q1\n",
    "print(\"Квантиль распределения Хи-квадрат с n степенями свободы уровня eps/2:\", q1)\n",
    "print(\"Квантиль распределения Хи-квадрат с n степенями свободы уровня 1-eps/2:\", q2)\n",
    "print(\"Точный доверительный интервал для DX уровня 1-eps, если EX известно - (\", left_bound,\",\",right_bound,\")\",sep='')"
   ]
  },
  {
   "cell_type": "markdown",
   "metadata": {},
   "source": [
    "### 4) DX, если EX неизвестно"
   ]
  },
  {
   "cell_type": "code",
   "execution_count": 7,
   "metadata": {},
   "outputs": [
    {
     "name": "stdout",
     "output_type": "stream",
     "text": [
      "Квантиль распределения Хи-квадрат с n-1 степенями свободы уровня eps/2: 32.140565022641475\n",
      "Квантиль распределения Хи-квадрат с n-1 степенями свободы уровня 1-eps/2: 69.2331404611865\n",
      "Точный доверительный интервал для DX уровня 1-eps, если EX неизвестно - (0.5256638609424751,1.132318610278401)\n"
     ]
    }
   ],
   "source": [
    "q1 = st.chi2.ppf(eps/2,n-1)\n",
    "q2 = st.chi2.ppf(1-eps/2,n-1)\n",
    "left_bound = n*S_2/q2\n",
    "right_bound = n*S_2/q1\n",
    "print(\"Квантиль распределения Хи-квадрат с n-1 степенями свободы уровня eps/2:\", q1)\n",
    "print(\"Квантиль распределения Хи-квадрат с n-1 степенями свободы уровня 1-eps/2:\", q2)\n",
    "print(\"Точный доверительный интервал для DX уровня 1-eps, если EX неизвестно - (\", left_bound,\",\",right_bound,\")\",sep='')"
   ]
  },
  {
   "cell_type": "markdown",
   "metadata": {},
   "source": [
    "# Задание 2. Проверить гипотезу $H_{0} = \\{F = F_{0}\\}$, где $F_{0}$ - функция распределения U(0,1) против альтернативы $H_{1} = \\{F \\neq F_{0}\\}$"
   ]
  },
  {
   "cell_type": "code",
   "execution_count": 8,
   "metadata": {},
   "outputs": [],
   "source": [
    "n = len(U_sample)"
   ]
  },
  {
   "cell_type": "markdown",
   "metadata": {},
   "source": [
    "### 1)Критерий Колмогорова с вероятностью ошибки первого рода равной eps"
   ]
  },
  {
   "cell_type": "code",
   "execution_count": 9,
   "metadata": {},
   "outputs": [
    {
     "data": {
      "image/png": "[encoded data removed]",
      "text/plain": [
       "<Figure size 432x288 with 1 Axes>"
      ]
     },
     "metadata": {
      "needs_background": "light"
     },
     "output_type": "display_data"
    }
   ],
   "source": [
    "def F_n(t): #Эмпипическая функция распеределения построенная по выборке \n",
    "    res = []\n",
    "    for s in t:\n",
    "        y = len(U_sample[U_sample < s])\n",
    "        res.append(y/n)\n",
    "    if(len(t) == 1):\n",
    "        return res[0]\n",
    "    else:\n",
    "        return array(res)\n",
    "\n",
    "l = np.min(U_sample) #Первая упорядоченная статистика\n",
    "r = np.max(U_sample) #n-я упорядоченная статистика\n",
    "step = 1e-4 #Шаг прорисовки\n",
    "x = np.arange(l,r,step) \n",
    "plt.plot(x,F_n(x))\n",
    "plt.plot(x,st.uniform.cdf(x))\n",
    "plt.show()"
   ]
  },
  {
   "cell_type": "code",
   "execution_count": 10,
   "metadata": {},
   "outputs": [
    {
     "name": "stdout",
     "output_type": "stream",
     "text": [
      "d(F_n,F_0) = 0.14290000000000846\n",
      "при значении F_n(t) = 0.2\n",
      "где t = 0.3429000000000085\n"
     ]
    }
   ],
   "source": [
    "#Поиск d(F_n,F_0) c шагом step, где F_0 - функция распередления U(0,1) \n",
    "D = np.max(np.abs(F_n(x) - st.uniform.cdf(x)))\n",
    "s = x[np.abs(F_n(x) - st.uniform.cdf(x)) == D][0]\n",
    "print(\"d(F_n,F_0) =\", D)       \n",
    "print(\"при значении F_n(t) =\", F_n([s]))\n",
    "print(\"где t =\", s)"
   ]
  },
  {
   "cell_type": "code",
   "execution_count": 12,
   "metadata": {},
   "outputs": [
    {
     "name": "stdout",
     "output_type": "stream",
     "text": [
      "(1-eps) - квантиль функции Колмогорова: 1.3241093034128217\n",
      "Критический уровень с_eps = 0.24174817802721824\n",
      "d(F_n,F_0) = 0.14290000000000846\n",
      "Принимаем гипотезу H = {F = F_0}, то есть, что выборка имеет распределение U(0,1)\n"
     ]
    }
   ],
   "source": [
    "#Составление критерия Колмогорова\n",
    "q = st.kstwobign.ppf(1-eps) #(1-eps) - квантиль функции Колмогорова\n",
    "print(\"(1-eps) - квантиль функции Колмогорова:\", q)\n",
    "c_eps = q/np.sqrt(n) #Критический уровень\n",
    "print(\"Критический уровень с_eps =\", c_eps)\n",
    "D_sqrt_n = np.sqrt(n)*D #Лишнее \n",
    "print(\"d(F_n,F_0) =\",D)\n",
    "if(D <= c_eps):\n",
    "    print(\"Принимаем гипотезу H = {F = F_0}, то есть, что выборка имеет распределение U(0,1)\")\n",
    "else:\n",
    "    print(\"Принимаем гипотезу H = {F != F_0}, то есть, что выборка имеет распределение отличное от U(0,1)\")"
   ]
  },
  {
   "cell_type": "markdown",
   "metadata": {},
   "source": [
    "### 2)Критерий $\\chi^{2}$ Пирсона"
   ]
  },
  {
   "cell_type": "code",
   "execution_count": 13,
   "metadata": {},
   "outputs": [
    {
     "name": "stdout",
     "output_type": "stream",
     "text": [
      "(1-eps/2) - квантиль функции распределения Хи-квадрат(k-1): 8.947287498879447\n",
      "Разбиение есть { [0.0,0.25) [0.25,0.5) [0.5,0.75) [0.75,1.0) }\n",
      "Критический уровень при вероятности ошибки первого рода равной eps: 0.2982429166293149\n",
      "d(P_n,P_0) = 0.04\n",
      "Принимаем гипотезу H = {F = F_0}, то есть, что выборка имеет распределение U(0,1)\n"
     ]
    }
   ],
   "source": [
    "k = 4 #Количество разбиений \n",
    "q = st.chi2.ppf(1-(eps/2),k-1) \n",
    "print(\"(1-eps/2) - квантиль функции распределения Хи-квадрат(k-1):\", q)\n",
    "\n",
    "def P_n(l,r): #Эмпирическое распределение \n",
    "    y = len(set(U_sample[U_sample >= l]) & set(U_sample[U_sample <= r]))\n",
    "    return y/n\n",
    "\n",
    "l = np.linspace(0, 1, num = k+1)\n",
    "P_na = array([P_n(l[i-1],l[i]) for i in range(1,k+1)])\n",
    "P = array([st.uniform.cdf(l[i]) - st.uniform.cdf(l[i-1]) for i in range(1,k+1)])\n",
    "\n",
    "print(\"Разбиение есть {\",end=' ')\n",
    "for i in range(1,k+1):\n",
    "    print(\"[\",l[i-1],\",\",l[i],\")\",sep='', end = ' ')\n",
    "print(\"}\")\n",
    "\n",
    "c_eps = q/n #Критический уровень при вероятности ошибки первого рода равной eps\n",
    "print(\"Критический уровень при вероятности ошибки первого рода равной eps:\", c_eps)\n",
    "\n",
    "D = np.sum(((P_na - P)**2)/P) #d(P_n,P)\n",
    "print(\"d(P_n,P_0) =\", D)\n",
    "\n",
    "if(D <= c_eps):\n",
    "    print(\"Принимаем гипотезу H = {F = F_0}, то есть, что выборка имеет распределение U(0,1)\")\n",
    "else:\n",
    "    print(\"Принимаем гипотезу H = {F != F_0}, то есть, что выборка имеет распределение отличное от U(0,1)\")"
   ]
  },
  {
   "cell_type": "markdown",
   "metadata": {},
   "source": [
    "# Задание 3. Проверить гипотезы о равенстве средних и дисперсий двух выборок из нормального распределения"
   ]
  },
  {
   "cell_type": "code",
   "execution_count": 14,
   "metadata": {},
   "outputs": [
    {
     "name": "stdout",
     "output_type": "stream",
     "text": [
      "Выборочное среднее выборки X: -0.78045\n",
      "Выборочное среднее выборки Y: -1.1779666666666666\n",
      "Выборочная дисперсия выборки X: 0.5612285475000001\n",
      "Выборочная дисперсия выборки Y: 0.7757518322222223\n"
     ]
    }
   ],
   "source": [
    "n = len(X)\n",
    "m = len(Y)\n",
    "\n",
    "X_mean = np.sum(X) / n\n",
    "Y_mean = np.sum(Y) / m\n",
    "\n",
    "S_2_X = (np.sum(X**2)/n - X_mean**2)\n",
    "S_2_Y = (np.sum(Y**2)/m - Y_mean**2)\n",
    "\n",
    "print(\"Выборочное среднее выборки X:\",X_mean)\n",
    "print(\"Выборочное среднее выборки Y:\",Y_mean)\n",
    "print(\"Выборочная дисперсия выборки X:\",S_2_X)\n",
    "print(\"Выборочная дисперсия выборки Y:\",S_2_Y)"
   ]
  },
  {
   "cell_type": "markdown",
   "metadata": {},
   "source": [
    "### Проверка гипотезы о совпадении дисперсий по критерию Фишера"
   ]
  },
  {
   "cell_type": "code",
   "execution_count": 15,
   "metadata": {},
   "outputs": [
    {
     "name": "stdout",
     "output_type": "stream",
     "text": [
      "eps/2 квантиль функции распредления Фишера: 0.4319289028961991\n",
      "(1-eps/2) квантиль функции распредления Фишера: 2.1591845537864742\n",
      "F = 0.736156382296279\n",
      "F принадлежит F(n-1,m-1), значит принимаем гипотезу о равенстве дисперсий\n"
     ]
    }
   ],
   "source": [
    "q1 = st.f.ppf(eps/2, n-1,m-1)\n",
    "q2 = st.f.ppf(1-eps/2, n-1,m-1)\n",
    "\n",
    "print(\"eps/2 квантиль функции распредления Фишера:\", q1)\n",
    "print(\"(1-eps/2) квантиль функции распредления Фишера:\", q2)\n",
    "\n",
    "F = ((m-1)*n*S_2_X)/((n-1)*m*S_2_Y)\n",
    "print(\"F =\",F)\n",
    "\n",
    "if F > q1 and F < q2:\n",
    "    print(\"F принадлежит F(n-1,m-1), значит принимаем гипотезу о равенстве дисперсий\")\n",
    "else:\n",
    "    print(\"F не принадлежит F(n-1,m-1), значит принимаем альтернативу о неравенстве дисперсий\")"
   ]
  },
  {
   "cell_type": "markdown",
   "metadata": {},
   "source": [
    "### Проверка гипотезы о равенстве средних по критерию Стьюдента, в предположении равенства дисперсий"
   ]
  },
  {
   "cell_type": "code",
   "execution_count": 16,
   "metadata": {},
   "outputs": [
    {
     "name": "stdout",
     "output_type": "stream",
     "text": [
      "eps/2 квантиль функции распредления Стьюдента: -1.9262983445478956\n",
      "(1-eps/2) квантиль функции распредления Стьюдента: 1.9262983445478956\n",
      "F = 1.6243332215909174\n",
      "F принадлежит T(n+m-2), значит принимаем гипотезу о равенстве средних\n"
     ]
    }
   ],
   "source": [
    "q = st.t.ppf(1-eps/2, n+m-2)\n",
    "\n",
    "print(\"eps/2 квантиль функции распредления Стьюдента:\", -q)\n",
    "print(\"(1-eps/2) квантиль функции распредления Стьюдента:\", q)\n",
    "\n",
    "F = (X_mean - Y_mean)/(np.sqrt(1/n+1/m)*np.sqrt((n*S_2_X + m*S_2_Y)/(n+m-2)))\n",
    "print(\"F =\",F)\n",
    "\n",
    "if F > -q and F < q:\n",
    "    print(\"F принадлежит T(n+m-2), значит принимаем гипотезу о равенстве средних\")\n",
    "else:\n",
    "    print(\"F не принадлежит T(n+m-2), значит принимаем альтернативу о неравенстве средних\")"
   ]
  }
 ],
 "metadata": {
  "kernelspec": {
   "display_name": "Python 3",
   "language": "python",
   "name": "python3"
  },
  "language_info": {
   "codemirror_mode": {
    "name": "ipython",
    "version": 3
   },
   "file_extension": ".py",
   "mimetype": "text/x-python",
   "name": "python",
   "nbconvert_exporter": "python",
   "pygments_lexer": "ipython3",
   "version": "3.5.2"
  }
 },
 "nbformat": 4,
 "nbformat_minor": 2
}
